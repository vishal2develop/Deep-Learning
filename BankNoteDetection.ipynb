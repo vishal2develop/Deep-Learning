{
  "nbformat": 4,
  "nbformat_minor": 0,
  "metadata": {
    "colab": {
      "name": "BankNoteDetection.ipynb",
      "provenance": [],
      "collapsed_sections": [],
      "authorship_tag": "ABX9TyNggENYDtwOcbQGLuPjgTTF",
      "include_colab_link": true
    },
    "kernelspec": {
      "name": "python3",
      "display_name": "Python 3"
    },
    "accelerator": "GPU"
  },
  "cells": [
    {
      "cell_type": "markdown",
      "metadata": {
        "id": "view-in-github",
        "colab_type": "text"
      },
      "source": [
        "<a href=\"https://colab.research.google.com/github/vishal2develop/Deep-Learning/blob/master/BankNoteDetection.ipynb\" target=\"_parent\"><img src=\"https://colab.research.google.com/assets/colab-badge.svg\" alt=\"Open In Colab\"/></a>"
      ]
    },
    {
      "cell_type": "markdown",
      "metadata": {
        "id": "-pYSqw2JPWGf",
        "colab_type": "text"
      },
      "source": [
        "# Note Detection"
      ]
    },
    {
      "cell_type": "markdown",
      "metadata": {
        "id": "K6_2I2B8ORHG",
        "colab_type": "text"
      },
      "source": [
        "## **Data Description**\n",
        "\n",
        "1.   VWTI: Variance of Wavelet Transformed Image\n",
        "2.   SWTI: Skewness of Wavelet Transformed Image\n",
        "3.   CWTI: Curtosis of Wavelet Transformed Image\n",
        "4.   EI: Entropy of Image\n",
        "5.   Class: Class (1: genuine, 0: forged)\n",
        "\n",
        "**Note: Here the target column is deliberately not there as you need to predict it.**\n",
        "\n",
        "### **Acknowledgement**\n",
        "The dataset is downloaded from the UCI Machine Learning Repository."
      ]
    },
    {
      "cell_type": "code",
      "metadata": {
        "id": "vy8GYkd4KDUE",
        "colab_type": "code",
        "colab": {
          "base_uri": "https://localhost:8080/",
          "height": 71
        },
        "outputId": "8586106f-1b9d-4895-e59b-95a7cf13cf37"
      },
      "source": [
        "import pandas as pd\n",
        "import numpy as np\n",
        "import tensorflow as tf\n",
        "from tensorflow import keras\n",
        "import matplotlib.pyplot as plt\n",
        "import seaborn as sns\n",
        "from tensorflow.keras import Sequential # type of model\n",
        "from tensorflow.keras import layers # for neural network layer addition"
      ],
      "execution_count": 1,
      "outputs": [
        {
          "output_type": "stream",
          "text": [
            "/usr/local/lib/python3.6/dist-packages/statsmodels/tools/_testing.py:19: FutureWarning: pandas.util.testing is deprecated. Use the functions in the public API at pandas.testing instead.\n",
            "  import pandas.util.testing as tm\n"
          ],
          "name": "stderr"
        }
      ]
    },
    {
      "cell_type": "code",
      "metadata": {
        "id": "9WYu_0DvXoEy",
        "colab_type": "code",
        "colab": {}
      },
      "source": [
        "from sklearn.model_selection import train_test_split\n",
        "from tensorflow.keras.layers import Dense\n",
        "from tensorflow.keras.optimizers import RMSprop\n",
        "from tensorflow.keras.utils import plot_model"
      ],
      "execution_count": 2,
      "outputs": []
    },
    {
      "cell_type": "code",
      "metadata": {
        "id": "CFVypBtvMOIk",
        "colab_type": "code",
        "colab": {}
      },
      "source": [
        "bank_note_data = pd.read_csv(\"https://raw.githubusercontent.com/dphi-official/Datasets/master/bank_note_data/training_set_label.csv\" )"
      ],
      "execution_count": 3,
      "outputs": []
    },
    {
      "cell_type": "code",
      "metadata": {
        "id": "FpSV6JhDN--a",
        "colab_type": "code",
        "colab": {
          "base_uri": "https://localhost:8080/",
          "height": 204
        },
        "outputId": "bc74a2e6-3791-448a-ba23-8f04e246999c"
      },
      "source": [
        "bank_note_data.head()"
      ],
      "execution_count": 4,
      "outputs": [
        {
          "output_type": "execute_result",
          "data": {
            "text/html": [
              "<div>\n",
              "<style scoped>\n",
              "    .dataframe tbody tr th:only-of-type {\n",
              "        vertical-align: middle;\n",
              "    }\n",
              "\n",
              "    .dataframe tbody tr th {\n",
              "        vertical-align: top;\n",
              "    }\n",
              "\n",
              "    .dataframe thead th {\n",
              "        text-align: right;\n",
              "    }\n",
              "</style>\n",
              "<table border=\"1\" class=\"dataframe\">\n",
              "  <thead>\n",
              "    <tr style=\"text-align: right;\">\n",
              "      <th></th>\n",
              "      <th>VWTI</th>\n",
              "      <th>SWTI</th>\n",
              "      <th>CWTI</th>\n",
              "      <th>EI</th>\n",
              "      <th>Class</th>\n",
              "    </tr>\n",
              "  </thead>\n",
              "  <tbody>\n",
              "    <tr>\n",
              "      <th>0</th>\n",
              "      <td>2.2634</td>\n",
              "      <td>-4.4862</td>\n",
              "      <td>3.6558</td>\n",
              "      <td>-0.612510</td>\n",
              "      <td>0</td>\n",
              "    </tr>\n",
              "    <tr>\n",
              "      <th>1</th>\n",
              "      <td>3.2718</td>\n",
              "      <td>1.7837</td>\n",
              "      <td>2.1161</td>\n",
              "      <td>0.613340</td>\n",
              "      <td>0</td>\n",
              "    </tr>\n",
              "    <tr>\n",
              "      <th>2</th>\n",
              "      <td>-3.9411</td>\n",
              "      <td>-12.8792</td>\n",
              "      <td>13.0597</td>\n",
              "      <td>-3.312500</td>\n",
              "      <td>1</td>\n",
              "    </tr>\n",
              "    <tr>\n",
              "      <th>3</th>\n",
              "      <td>0.5195</td>\n",
              "      <td>-3.2633</td>\n",
              "      <td>3.0895</td>\n",
              "      <td>-0.984900</td>\n",
              "      <td>0</td>\n",
              "    </tr>\n",
              "    <tr>\n",
              "      <th>4</th>\n",
              "      <td>2.5698</td>\n",
              "      <td>-4.4076</td>\n",
              "      <td>5.9856</td>\n",
              "      <td>0.078002</td>\n",
              "      <td>0</td>\n",
              "    </tr>\n",
              "  </tbody>\n",
              "</table>\n",
              "</div>"
            ],
            "text/plain": [
              "     VWTI     SWTI     CWTI        EI  Class\n",
              "0  2.2634  -4.4862   3.6558 -0.612510      0\n",
              "1  3.2718   1.7837   2.1161  0.613340      0\n",
              "2 -3.9411 -12.8792  13.0597 -3.312500      1\n",
              "3  0.5195  -3.2633   3.0895 -0.984900      0\n",
              "4  2.5698  -4.4076   5.9856  0.078002      0"
            ]
          },
          "metadata": {
            "tags": []
          },
          "execution_count": 4
        }
      ]
    },
    {
      "cell_type": "code",
      "metadata": {
        "id": "60IyBHRYODGO",
        "colab_type": "code",
        "colab": {}
      },
      "source": [
        "test_data = pd.read_csv('https://raw.githubusercontent.com/dphi-official/Datasets/master/bank_note_data/testing_set_label.csv')"
      ],
      "execution_count": 5,
      "outputs": []
    },
    {
      "cell_type": "code",
      "metadata": {
        "id": "EMllTbbsPdzQ",
        "colab_type": "code",
        "colab": {
          "base_uri": "https://localhost:8080/",
          "height": 204
        },
        "outputId": "c3a7a39c-b061-46ce-a544-601ebf4e7e2a"
      },
      "source": [
        "test_data.head()"
      ],
      "execution_count": 6,
      "outputs": [
        {
          "output_type": "execute_result",
          "data": {
            "text/html": [
              "<div>\n",
              "<style scoped>\n",
              "    .dataframe tbody tr th:only-of-type {\n",
              "        vertical-align: middle;\n",
              "    }\n",
              "\n",
              "    .dataframe tbody tr th {\n",
              "        vertical-align: top;\n",
              "    }\n",
              "\n",
              "    .dataframe thead th {\n",
              "        text-align: right;\n",
              "    }\n",
              "</style>\n",
              "<table border=\"1\" class=\"dataframe\">\n",
              "  <thead>\n",
              "    <tr style=\"text-align: right;\">\n",
              "      <th></th>\n",
              "      <th>VWTI</th>\n",
              "      <th>SWTI</th>\n",
              "      <th>CWTI</th>\n",
              "      <th>EI</th>\n",
              "    </tr>\n",
              "  </thead>\n",
              "  <tbody>\n",
              "    <tr>\n",
              "      <th>0</th>\n",
              "      <td>-0.40804</td>\n",
              "      <td>0.54214</td>\n",
              "      <td>-0.52725</td>\n",
              "      <td>0.65860</td>\n",
              "    </tr>\n",
              "    <tr>\n",
              "      <th>1</th>\n",
              "      <td>-3.71810</td>\n",
              "      <td>-8.50890</td>\n",
              "      <td>12.36300</td>\n",
              "      <td>-0.95518</td>\n",
              "    </tr>\n",
              "    <tr>\n",
              "      <th>2</th>\n",
              "      <td>5.50400</td>\n",
              "      <td>10.36710</td>\n",
              "      <td>-4.41300</td>\n",
              "      <td>-4.02110</td>\n",
              "    </tr>\n",
              "    <tr>\n",
              "      <th>3</th>\n",
              "      <td>1.68490</td>\n",
              "      <td>8.74890</td>\n",
              "      <td>-1.26410</td>\n",
              "      <td>-1.38580</td>\n",
              "    </tr>\n",
              "    <tr>\n",
              "      <th>4</th>\n",
              "      <td>4.74320</td>\n",
              "      <td>2.10860</td>\n",
              "      <td>0.13680</td>\n",
              "      <td>1.65430</td>\n",
              "    </tr>\n",
              "  </tbody>\n",
              "</table>\n",
              "</div>"
            ],
            "text/plain": [
              "      VWTI      SWTI      CWTI       EI\n",
              "0 -0.40804   0.54214  -0.52725  0.65860\n",
              "1 -3.71810  -8.50890  12.36300 -0.95518\n",
              "2  5.50400  10.36710  -4.41300 -4.02110\n",
              "3  1.68490   8.74890  -1.26410 -1.38580\n",
              "4  4.74320   2.10860   0.13680  1.65430"
            ]
          },
          "metadata": {
            "tags": []
          },
          "execution_count": 6
        }
      ]
    },
    {
      "cell_type": "code",
      "metadata": {
        "id": "ComkMw6uRRSX",
        "colab_type": "code",
        "colab": {}
      },
      "source": [
        "corr = bank_note_data.corr()"
      ],
      "execution_count": 7,
      "outputs": []
    },
    {
      "cell_type": "code",
      "metadata": {
        "id": "KcQTqE1gRhig",
        "colab_type": "code",
        "colab": {
          "base_uri": "https://localhost:8080/",
          "height": 204
        },
        "outputId": "e443f4f1-7636-49b2-e4bc-94eb024f84e3"
      },
      "source": [
        "corr"
      ],
      "execution_count": 8,
      "outputs": [
        {
          "output_type": "execute_result",
          "data": {
            "text/html": [
              "<div>\n",
              "<style scoped>\n",
              "    .dataframe tbody tr th:only-of-type {\n",
              "        vertical-align: middle;\n",
              "    }\n",
              "\n",
              "    .dataframe tbody tr th {\n",
              "        vertical-align: top;\n",
              "    }\n",
              "\n",
              "    .dataframe thead th {\n",
              "        text-align: right;\n",
              "    }\n",
              "</style>\n",
              "<table border=\"1\" class=\"dataframe\">\n",
              "  <thead>\n",
              "    <tr style=\"text-align: right;\">\n",
              "      <th></th>\n",
              "      <th>VWTI</th>\n",
              "      <th>SWTI</th>\n",
              "      <th>CWTI</th>\n",
              "      <th>EI</th>\n",
              "      <th>Class</th>\n",
              "    </tr>\n",
              "  </thead>\n",
              "  <tbody>\n",
              "    <tr>\n",
              "      <th>VWTI</th>\n",
              "      <td>1.000000</td>\n",
              "      <td>0.279529</td>\n",
              "      <td>-0.386030</td>\n",
              "      <td>0.261549</td>\n",
              "      <td>-0.733766</td>\n",
              "    </tr>\n",
              "    <tr>\n",
              "      <th>SWTI</th>\n",
              "      <td>0.279529</td>\n",
              "      <td>1.000000</td>\n",
              "      <td>-0.800012</td>\n",
              "      <td>-0.523369</td>\n",
              "      <td>-0.447665</td>\n",
              "    </tr>\n",
              "    <tr>\n",
              "      <th>CWTI</th>\n",
              "      <td>-0.386030</td>\n",
              "      <td>-0.800012</td>\n",
              "      <td>1.000000</td>\n",
              "      <td>0.339566</td>\n",
              "      <td>0.167561</td>\n",
              "    </tr>\n",
              "    <tr>\n",
              "      <th>EI</th>\n",
              "      <td>0.261549</td>\n",
              "      <td>-0.523369</td>\n",
              "      <td>0.339566</td>\n",
              "      <td>1.000000</td>\n",
              "      <td>-0.035046</td>\n",
              "    </tr>\n",
              "    <tr>\n",
              "      <th>Class</th>\n",
              "      <td>-0.733766</td>\n",
              "      <td>-0.447665</td>\n",
              "      <td>0.167561</td>\n",
              "      <td>-0.035046</td>\n",
              "      <td>1.000000</td>\n",
              "    </tr>\n",
              "  </tbody>\n",
              "</table>\n",
              "</div>"
            ],
            "text/plain": [
              "           VWTI      SWTI      CWTI        EI     Class\n",
              "VWTI   1.000000  0.279529 -0.386030  0.261549 -0.733766\n",
              "SWTI   0.279529  1.000000 -0.800012 -0.523369 -0.447665\n",
              "CWTI  -0.386030 -0.800012  1.000000  0.339566  0.167561\n",
              "EI     0.261549 -0.523369  0.339566  1.000000 -0.035046\n",
              "Class -0.733766 -0.447665  0.167561 -0.035046  1.000000"
            ]
          },
          "metadata": {
            "tags": []
          },
          "execution_count": 8
        }
      ]
    },
    {
      "cell_type": "code",
      "metadata": {
        "id": "oqs8IRJeRjGn",
        "colab_type": "code",
        "colab": {
          "base_uri": "https://localhost:8080/",
          "height": 483
        },
        "outputId": "bc6bb197-2bc9-4269-c90a-9cab0a8179e9"
      },
      "source": [
        "# Generate a mask for the upper triangle\n",
        "mask = np.zeros_like(corr, dtype=np.bool)\n",
        "mask[np.triu_indices_from(mask)] = True\n",
        "# Set up the figure\n",
        "fig, ax = plt.subplots(figsize=(12,8))\n",
        "\n",
        "# Generate a custom colormap\n",
        "cmap = sns.diverging_palette(250, 10, s=80, l=55, n=9, as_cmap=True)\n",
        "\n",
        "# Draw the heatmap with the mask and correct aspect ratio (mask to not display upper triangle part)\n",
        "sns.heatmap(corr, mask=mask, cmap=cmap, ax=ax, annot=True);\n",
        "plt.savefig('corr.png')"
      ],
      "execution_count": 9,
      "outputs": [
        {
          "output_type": "display_data",
          "data": {
            "image/png": "[encoded data removed]",
            "text/plain": [
              "<Figure size 864x576 with 2 Axes>"
            ]
          },
          "metadata": {
            "tags": [],
            "needs_background": "light"
          }
        }
      ]
    },
    {
      "cell_type": "markdown",
      "metadata": {
        "id": "CEoJF8h5TZTR",
        "colab_type": "text"
      },
      "source": [
        "\n",
        "\n",
        "*   There seems to be a serious -ve correlation between SWTI and CWTI (-0.8)\n",
        "*   There is also a serious negative correlation between class and VWTI (-0.73)\n",
        "\n",
        "For starters we will take all the features into consideration and if needed will remove the multi-correlated features like SWTI/CWTI and VWTI\n",
        "\n"
      ]
    },
    {
      "cell_type": "code",
      "metadata": {
        "id": "AjM46K6BWoyS",
        "colab_type": "code",
        "colab": {}
      },
      "source": [
        "X = bank_note_data.drop('Class',axis=1) # Input Variables\n",
        "y = bank_note_data.Class # Target variable"
      ],
      "execution_count": 11,
      "outputs": []
    },
    {
      "cell_type": "code",
      "metadata": {
        "id": "jlhxO87uXCLE",
        "colab_type": "code",
        "colab": {
          "base_uri": "https://localhost:8080/",
          "height": 204
        },
        "outputId": "1a8ecd93-97a3-4e30-82f0-98d180feed84"
      },
      "source": [
        "X.head()"
      ],
      "execution_count": 12,
      "outputs": [
        {
          "output_type": "execute_result",
          "data": {
            "text/html": [
              "<div>\n",
              "<style scoped>\n",
              "    .dataframe tbody tr th:only-of-type {\n",
              "        vertical-align: middle;\n",
              "    }\n",
              "\n",
              "    .dataframe tbody tr th {\n",
              "        vertical-align: top;\n",
              "    }\n",
              "\n",
              "    .dataframe thead th {\n",
              "        text-align: right;\n",
              "    }\n",
              "</style>\n",
              "<table border=\"1\" class=\"dataframe\">\n",
              "  <thead>\n",
              "    <tr style=\"text-align: right;\">\n",
              "      <th></th>\n",
              "      <th>VWTI</th>\n",
              "      <th>SWTI</th>\n",
              "      <th>CWTI</th>\n",
              "      <th>EI</th>\n",
              "    </tr>\n",
              "  </thead>\n",
              "  <tbody>\n",
              "    <tr>\n",
              "      <th>0</th>\n",
              "      <td>2.2634</td>\n",
              "      <td>-4.4862</td>\n",
              "      <td>3.6558</td>\n",
              "      <td>-0.612510</td>\n",
              "    </tr>\n",
              "    <tr>\n",
              "      <th>1</th>\n",
              "      <td>3.2718</td>\n",
              "      <td>1.7837</td>\n",
              "      <td>2.1161</td>\n",
              "      <td>0.613340</td>\n",
              "    </tr>\n",
              "    <tr>\n",
              "      <th>2</th>\n",
              "      <td>-3.9411</td>\n",
              "      <td>-12.8792</td>\n",
              "      <td>13.0597</td>\n",
              "      <td>-3.312500</td>\n",
              "    </tr>\n",
              "    <tr>\n",
              "      <th>3</th>\n",
              "      <td>0.5195</td>\n",
              "      <td>-3.2633</td>\n",
              "      <td>3.0895</td>\n",
              "      <td>-0.984900</td>\n",
              "    </tr>\n",
              "    <tr>\n",
              "      <th>4</th>\n",
              "      <td>2.5698</td>\n",
              "      <td>-4.4076</td>\n",
              "      <td>5.9856</td>\n",
              "      <td>0.078002</td>\n",
              "    </tr>\n",
              "  </tbody>\n",
              "</table>\n",
              "</div>"
            ],
            "text/plain": [
              "     VWTI     SWTI     CWTI        EI\n",
              "0  2.2634  -4.4862   3.6558 -0.612510\n",
              "1  3.2718   1.7837   2.1161  0.613340\n",
              "2 -3.9411 -12.8792  13.0597 -3.312500\n",
              "3  0.5195  -3.2633   3.0895 -0.984900\n",
              "4  2.5698  -4.4076   5.9856  0.078002"
            ]
          },
          "metadata": {
            "tags": []
          },
          "execution_count": 12
        }
      ]
    },
    {
      "cell_type": "code",
      "metadata": {
        "id": "iy9Z2UqwXUzV",
        "colab_type": "code",
        "colab": {
          "base_uri": "https://localhost:8080/",
          "height": 119
        },
        "outputId": "c4ce4d1a-bd9e-4999-eaf1-e6b6a6676d31"
      },
      "source": [
        "y.head()"
      ],
      "execution_count": 13,
      "outputs": [
        {
          "output_type": "execute_result",
          "data": {
            "text/plain": [
              "0    0\n",
              "1    0\n",
              "2    1\n",
              "3    0\n",
              "4    0\n",
              "Name: Class, dtype: int64"
            ]
          },
          "metadata": {
            "tags": []
          },
          "execution_count": 13
        }
      ]
    },
    {
      "cell_type": "markdown",
      "metadata": {
        "id": "GTwi1jOHXbtC",
        "colab_type": "text"
      },
      "source": [
        "### Split into train and validation set"
      ]
    },
    {
      "cell_type": "code",
      "metadata": {
        "id": "Diijb1FnXgE1",
        "colab_type": "code",
        "colab": {}
      },
      "source": [
        "X_train,X_val,y_train,y_val = train_test_split(X,y,test_size=0.2,random_state=42)"
      ],
      "execution_count": 14,
      "outputs": []
    },
    {
      "cell_type": "code",
      "metadata": {
        "id": "SzcRSGXSYTzA",
        "colab_type": "code",
        "colab": {
          "base_uri": "https://localhost:8080/",
          "height": 136
        },
        "outputId": "c5513e85-0489-42ff-a9ab-bfd4613f52e7"
      },
      "source": [
        "print(\"Train Data\")\n",
        "print(X_train.shape)\n",
        "print(y_train.shape)\n",
        "print()\n",
        "\n",
        "print(\"Validation Data\")\n",
        "print(X_val.shape)\n",
        "print(y_val.shape)"
      ],
      "execution_count": 15,
      "outputs": [
        {
          "output_type": "stream",
          "text": [
            "Train Data\n",
            "(876, 4)\n",
            "(876,)\n",
            "\n",
            "Validation Data\n",
            "(220, 4)\n",
            "(220,)\n"
          ],
          "name": "stdout"
        }
      ]
    },
    {
      "cell_type": "code",
      "metadata": {
        "id": "L1k-37CiZQuD",
        "colab_type": "code",
        "colab": {
          "base_uri": "https://localhost:8080/",
          "height": 34
        },
        "outputId": "fad7cf91-7f3d-4bd2-9ad3-ec3c08998d74"
      },
      "source": [
        "n_features = X_train.shape[1]\n",
        "n_features"
      ],
      "execution_count": 16,
      "outputs": [
        {
          "output_type": "execute_result",
          "data": {
            "text/plain": [
              "4"
            ]
          },
          "metadata": {
            "tags": []
          },
          "execution_count": 16
        }
      ]
    },
    {
      "cell_type": "markdown",
      "metadata": {
        "id": "_k743H7TU0tu",
        "colab_type": "text"
      },
      "source": [
        "### Sequential Model"
      ]
    },
    {
      "cell_type": "code",
      "metadata": {
        "id": "-8Jk3Y6WTQBa",
        "colab_type": "code",
        "colab": {}
      },
      "source": [
        "# Define sequiential model with 3 layers\n",
        "\n",
        "model = Sequential()\n",
        "model.add(Dense(64,activation='relu',input_shape = (n_features,)))\n",
        "model.add(Dense(32,activation='relu',name='layer2'))\n",
        "model.add(Dense(24,activation='relu',name='layer3'))\n",
        "model.add(Dense(1,activation='sigmoid',name='layer4'))\n",
        "\n"
      ],
      "execution_count": 24,
      "outputs": []
    },
    {
      "cell_type": "markdown",
      "metadata": {
        "id": "9nootz6Fb90B",
        "colab_type": "text"
      },
      "source": [
        "### Model Compilation"
      ]
    },
    {
      "cell_type": "code",
      "metadata": {
        "id": "08wSboR5bJPf",
        "colab_type": "code",
        "colab": {}
      },
      "source": [
        "optimizer = RMSprop(0.001) # learning rate\n",
        "model.compile(loss = 'binary_crossentropy',optimizer=optimizer,metrics=['accuracy'])"
      ],
      "execution_count": 25,
      "outputs": []
    },
    {
      "cell_type": "code",
      "metadata": {
        "id": "f_LCP7BZcYP8",
        "colab_type": "code",
        "colab": {
          "base_uri": "https://localhost:8080/",
          "height": 289
        },
        "outputId": "b3770fca-04b4-4931-e8a6-1cd6fa25db1b"
      },
      "source": [
        "model.summary()"
      ],
      "execution_count": 26,
      "outputs": [
        {
          "output_type": "stream",
          "text": [
            "Model: \"sequential_2\"\n",
            "_________________________________________________________________\n",
            "Layer (type)                 Output Shape              Param #   \n",
            "=================================================================\n",
            "dense_2 (Dense)              (None, 64)                320       \n",
            "_________________________________________________________________\n",
            "layer2 (Dense)               (None, 32)                2080      \n",
            "_________________________________________________________________\n",
            "layer3 (Dense)               (None, 24)                792       \n",
            "_________________________________________________________________\n",
            "layer4 (Dense)               (None, 1)                 25        \n",
            "=================================================================\n",
            "Total params: 3,217\n",
            "Trainable params: 3,217\n",
            "Non-trainable params: 0\n",
            "_________________________________________________________________\n"
          ],
          "name": "stdout"
        }
      ]
    },
    {
      "cell_type": "code",
      "metadata": {
        "id": "PEXsH1YJcaSs",
        "colab_type": "code",
        "colab": {
          "base_uri": "https://localhost:8080/",
          "height": 466
        },
        "outputId": "eda5df98-4084-4369-9cb6-394d220e13d8"
      },
      "source": [
        "plot_model(model)"
      ],
      "execution_count": 20,
      "outputs": [
        {
          "output_type": "execute_result",
          "data": {
            "image/png": "[encoded data removed]",
            "text/plain": [
              "<IPython.core.display.Image object>"
            ]
          },
          "metadata": {
            "tags": []
          },
          "execution_count": 20
        }
      ]
    },
    {
      "cell_type": "code",
      "metadata": {
        "id": "mH4WUFT1BAXq",
        "colab_type": "code",
        "colab": {}
      },
      "source": [
        "from tensorflow.keras.callbacks import TensorBoard # to visulaize the model\n",
        "from datetime import datetime\n",
        "from tensorflow.keras.callbacks import EarlyStopping"
      ],
      "execution_count": 29,
      "outputs": []
    },
    {
      "cell_type": "code",
      "metadata": {
        "id": "Dkkm30JpBC5I",
        "colab_type": "code",
        "colab": {}
      },
      "source": [
        "\n",
        "## for tensorboard visualisation you can check out the following link: https://youtu.be/Uzkhn5ENJzQ\n",
        "logdir = \"logs/\" + datetime.now().strftime(\"%Y%m%d-%H%M%S\")\n",
        "tensorboard_callback = TensorBoard(log_dir=logdir)"
      ],
      "execution_count": 34,
      "outputs": []
    },
    {
      "cell_type": "markdown",
      "metadata": {
        "id": "hgtxQHDXcsaL",
        "colab_type": "text"
      },
      "source": [
        "### Model Training"
      ]
    },
    {
      "cell_type": "code",
      "metadata": {
        "id": "AHqPli4Scg50",
        "colab_type": "code",
        "colab": {
          "base_uri": "https://localhost:8080/",
          "height": 394
        },
        "outputId": "468b5827-8424-4a5a-db63-200cabb2abdd"
      },
      "source": [
        "history = model.fit(X_train,y_train,validation_data=(X_val,y_val),batch_size=16,epochs=10,verbose=1,callbacks=[tensorboard_callback],)"
      ],
      "execution_count": 37,
      "outputs": [
        {
          "output_type": "stream",
          "text": [
            "Epoch 1/10\n",
            " 1/55 [..............................] - ETA: 0s - loss: 3.7266e-11 - accuracy: 1.0000WARNING:tensorflow:Callbacks method `on_train_batch_end` is slow compared to the batch time (batch time: 0.0084s vs `on_train_batch_end` time: 0.0289s). Check your callbacks.\n",
            "55/55 [==============================] - 0s 8ms/step - loss: 3.7913e-10 - accuracy: 1.0000 - val_loss: 2.5269e-09 - val_accuracy: 1.0000\n",
            "Epoch 2/10\n",
            "55/55 [==============================] - 0s 5ms/step - loss: 3.7775e-10 - accuracy: 1.0000 - val_loss: 2.7866e-09 - val_accuracy: 1.0000\n",
            "Epoch 3/10\n",
            "55/55 [==============================] - 0s 6ms/step - loss: 3.8692e-10 - accuracy: 1.0000 - val_loss: 3.1213e-09 - val_accuracy: 1.0000\n",
            "Epoch 4/10\n",
            "55/55 [==============================] - 0s 5ms/step - loss: 3.9916e-10 - accuracy: 1.0000 - val_loss: 3.5730e-09 - val_accuracy: 1.0000\n",
            "Epoch 5/10\n",
            "55/55 [==============================] - 0s 5ms/step - loss: 4.0993e-10 - accuracy: 1.0000 - val_loss: 1.9821e-09 - val_accuracy: 1.0000\n",
            "Epoch 6/10\n",
            "55/55 [==============================] - 0s 5ms/step - loss: 3.3103e-10 - accuracy: 1.0000 - val_loss: 2.0318e-09 - val_accuracy: 1.0000\n",
            "Epoch 7/10\n",
            "55/55 [==============================] - 0s 5ms/step - loss: 3.2178e-10 - accuracy: 1.0000 - val_loss: 2.1496e-09 - val_accuracy: 1.0000\n",
            "Epoch 8/10\n",
            "55/55 [==============================] - 0s 5ms/step - loss: 3.1554e-10 - accuracy: 1.0000 - val_loss: 2.3324e-09 - val_accuracy: 1.0000\n",
            "Epoch 9/10\n",
            "55/55 [==============================] - 0s 5ms/step - loss: 3.2947e-10 - accuracy: 1.0000 - val_loss: 2.5313e-09 - val_accuracy: 1.0000\n",
            "Epoch 10/10\n",
            "55/55 [==============================] - 0s 6ms/step - loss: 3.2437e-10 - accuracy: 1.0000 - val_loss: 2.7927e-09 - val_accuracy: 1.0000\n"
          ],
          "name": "stdout"
        }
      ]
    },
    {
      "cell_type": "markdown",
      "metadata": {
        "id": "ecQAWGUYgh_Y",
        "colab_type": "text"
      },
      "source": [
        "### Trying out Earlystop. Just curious"
      ]
    },
    {
      "cell_type": "code",
      "metadata": {
        "id": "9MOyAFlzeDeG",
        "colab_type": "code",
        "colab": {}
      },
      "source": [
        "es = EarlyStopping(monitor='val_loss', mode='min', verbose=1, patience=5)"
      ],
      "execution_count": 50,
      "outputs": []
    },
    {
      "cell_type": "code",
      "metadata": {
        "id": "CvY4BPKxDi71",
        "colab_type": "code",
        "colab": {}
      },
      "source": [
        "from tensorflow.keras.optimizers import SGD"
      ],
      "execution_count": 39,
      "outputs": []
    },
    {
      "cell_type": "code",
      "metadata": {
        "id": "buh5KE5kgcMN",
        "colab_type": "code",
        "colab": {}
      },
      "source": [
        "model2 = Sequential()\n",
        "model2.add(Dense(24,activation='relu',input_shape= (n_features,),name='layer1'))\n",
        "model2.add(Dense(12,activation='relu',name='layer2'))\n",
        "model2.add(Dense(6,activation='relu',name='layer3'))\n",
        "model2.add(Dense(1,activation='sigmoid'))\n",
        "model2.compile(loss='binary_crossentropy', optimizer=SGD(lr=0.01), metrics=['accuracy'])"
      ],
      "execution_count": 45,
      "outputs": []
    },
    {
      "cell_type": "code",
      "metadata": {
        "id": "4SptfynqDsqb",
        "colab_type": "code",
        "colab": {}
      },
      "source": [
        "logdir = \"logs/\" + datetime.now().strftime(\"%Y%m%d-%H%M%S\")\n",
        "tensorboard_callback = TensorBoard(log_dir=logdir)"
      ],
      "execution_count": 46,
      "outputs": []
    },
    {
      "cell_type": "code",
      "metadata": {
        "id": "DhdZfwccDw6i",
        "colab_type": "code",
        "colab": {
          "base_uri": "https://localhost:8080/",
          "height": 697
        },
        "outputId": "19efaa43-a16f-4695-dd45-e5a6430f265f"
      },
      "source": [
        "training_history = model2.fit(\n",
        "    X_train, # input\n",
        "    y_train, # output\n",
        "    batch_size=32,\n",
        "    verbose=1, # Suppress chatty output; use Tensorboard instead\n",
        "    epochs=20,\n",
        "    validation_data=(X_val, y_val),\n",
        "    callbacks=[tensorboard_callback,es],\n",
        ")"
      ],
      "execution_count": 51,
      "outputs": [
        {
          "output_type": "stream",
          "text": [
            "Epoch 1/20\n",
            "28/28 [==============================] - 0s 7ms/step - loss: 0.0546 - accuracy: 1.0000 - val_loss: 0.0408 - val_accuracy: 1.0000\n",
            "Epoch 2/20\n",
            "28/28 [==============================] - 0s 4ms/step - loss: 0.0522 - accuracy: 1.0000 - val_loss: 0.0396 - val_accuracy: 1.0000\n",
            "Epoch 3/20\n",
            "28/28 [==============================] - 0s 5ms/step - loss: 0.0500 - accuracy: 1.0000 - val_loss: 0.0373 - val_accuracy: 1.0000\n",
            "Epoch 4/20\n",
            "28/28 [==============================] - 0s 5ms/step - loss: 0.0478 - accuracy: 1.0000 - val_loss: 0.0356 - val_accuracy: 1.0000\n",
            "Epoch 5/20\n",
            "28/28 [==============================] - 0s 4ms/step - loss: 0.0460 - accuracy: 1.0000 - val_loss: 0.0343 - val_accuracy: 1.0000\n",
            "Epoch 6/20\n",
            "28/28 [==============================] - 0s 5ms/step - loss: 0.0441 - accuracy: 1.0000 - val_loss: 0.0328 - val_accuracy: 1.0000\n",
            "Epoch 7/20\n",
            "28/28 [==============================] - 0s 6ms/step - loss: 0.0424 - accuracy: 1.0000 - val_loss: 0.0314 - val_accuracy: 1.0000\n",
            "Epoch 8/20\n",
            "28/28 [==============================] - 0s 5ms/step - loss: 0.0407 - accuracy: 1.0000 - val_loss: 0.0303 - val_accuracy: 1.0000\n",
            "Epoch 9/20\n",
            "28/28 [==============================] - 0s 4ms/step - loss: 0.0391 - accuracy: 1.0000 - val_loss: 0.0289 - val_accuracy: 1.0000\n",
            "Epoch 10/20\n",
            "28/28 [==============================] - 0s 5ms/step - loss: 0.0377 - accuracy: 1.0000 - val_loss: 0.0279 - val_accuracy: 1.0000\n",
            "Epoch 11/20\n",
            "28/28 [==============================] - 0s 5ms/step - loss: 0.0363 - accuracy: 1.0000 - val_loss: 0.0268 - val_accuracy: 1.0000\n",
            "Epoch 12/20\n",
            "28/28 [==============================] - 0s 4ms/step - loss: 0.0351 - accuracy: 1.0000 - val_loss: 0.0255 - val_accuracy: 1.0000\n",
            "Epoch 13/20\n",
            "28/28 [==============================] - 0s 5ms/step - loss: 0.0339 - accuracy: 1.0000 - val_loss: 0.0247 - val_accuracy: 1.0000\n",
            "Epoch 14/20\n",
            "28/28 [==============================] - 0s 5ms/step - loss: 0.0326 - accuracy: 1.0000 - val_loss: 0.0241 - val_accuracy: 1.0000\n",
            "Epoch 15/20\n",
            "28/28 [==============================] - 0s 5ms/step - loss: 0.0315 - accuracy: 1.0000 - val_loss: 0.0233 - val_accuracy: 1.0000\n",
            "Epoch 16/20\n",
            "28/28 [==============================] - 0s 5ms/step - loss: 0.0305 - accuracy: 1.0000 - val_loss: 0.0224 - val_accuracy: 1.0000\n",
            "Epoch 17/20\n",
            "28/28 [==============================] - 0s 5ms/step - loss: 0.0295 - accuracy: 1.0000 - val_loss: 0.0215 - val_accuracy: 1.0000\n",
            "Epoch 18/20\n",
            "28/28 [==============================] - 0s 5ms/step - loss: 0.0285 - accuracy: 1.0000 - val_loss: 0.0211 - val_accuracy: 1.0000\n",
            "Epoch 19/20\n",
            "28/28 [==============================] - 0s 5ms/step - loss: 0.0277 - accuracy: 1.0000 - val_loss: 0.0203 - val_accuracy: 1.0000\n",
            "Epoch 20/20\n",
            "28/28 [==============================] - 0s 4ms/step - loss: 0.0268 - accuracy: 1.0000 - val_loss: 0.0196 - val_accuracy: 1.0000\n"
          ],
          "name": "stdout"
        }
      ]
    },
    {
      "cell_type": "markdown",
      "metadata": {
        "id": "D_Q-G--6GC_m",
        "colab_type": "text"
      },
      "source": [
        "### Making Predictions on Test Data"
      ]
    },
    {
      "cell_type": "code",
      "metadata": {
        "id": "PfDy_ClvD7kA",
        "colab_type": "code",
        "colab": {}
      },
      "source": [
        "target = model2.predict_classes(test_data)"
      ],
      "execution_count": 53,
      "outputs": []
    },
    {
      "cell_type": "code",
      "metadata": {
        "id": "cXyd1UFhGM7y",
        "colab_type": "code",
        "colab": {}
      },
      "source": [
        "res = pd.DataFrame(target) #preditcions are nothing but the final predictions of your model on input features of your new unseen test data\n",
        "res.index = test_data.index # its important for comparison. Here \"test_new\" is your new test dataset\n",
        "res.columns = [\"predictions\"]\n",
        "res.to_csv(\"prediction_results.csv\")      # the csv file will be saved locally on the same location where this notebook is located."
      ],
      "execution_count": 54,
      "outputs": []
    },
    {
      "cell_type": "code",
      "metadata": {
        "id": "0RZrDuZxG39i",
        "colab_type": "code",
        "colab": {}
      },
      "source": [
        ""
      ],
      "execution_count": null,
      "outputs": []
    }
  ]
}